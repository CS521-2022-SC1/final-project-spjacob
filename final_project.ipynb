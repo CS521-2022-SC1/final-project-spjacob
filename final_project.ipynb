{
 "cells": [
  {
   "cell_type": "markdown",
   "id": "60e517df",
   "metadata": {},
   "source": [
    "# Final Project\n",
    "## Housing price prediction"
   ]
  },
  {
   "cell_type": "code",
   "execution_count": 6,
   "id": "b72b7b2e",
   "metadata": {},
   "outputs": [],
   "source": [
    "import pandas as pd\n",
    "import matplotlib.pyplot as plt\n",
    "from sklearn import linear_model\n",
    "import seaborn as sns\n",
    "import numpy as np\n",
    "\n",
    "%matplotlib inline"
   ]
  },
  {
   "cell_type": "markdown",
   "id": "b4ba299e",
   "metadata": {},
   "source": [
    "### import the dataset from csv file"
   ]
  },
  {
   "cell_type": "code",
   "execution_count": 7,
   "id": "5e87e940",
   "metadata": {},
   "outputs": [],
   "source": [
    "dataset = pd.read_csv('house_prediction_data.csv')"
   ]
  },
  {
   "cell_type": "markdown",
   "id": "a526b51e",
   "metadata": {},
   "source": [
    "### drop NaNs"
   ]
  },
  {
   "cell_type": "code",
   "execution_count": 8,
   "id": "53c39406",
   "metadata": {},
   "outputs": [],
   "source": [
    "dataset = dataset.replace(np.nan,0,regex=True)"
   ]
  },
  {
   "cell_type": "markdown",
   "id": "e14d796b",
   "metadata": {},
   "source": [
    "### Dropped the heads because of NaN"
   ]
  },
  {
   "cell_type": "code",
   "execution_count": 9,
   "id": "257d4e91",
   "metadata": {},
   "outputs": [],
   "source": [
    "dataset= dataset.drop(labels=[\"Alley\",\"PoolQC\",\"Fence\"],axis=1)"
   ]
  },
  {
   "cell_type": "markdown",
   "id": "d85f2ce3",
   "metadata": {},
   "source": [
    "### show dataset head"
   ]
  },
  {
   "cell_type": "code",
   "execution_count": 10,
   "id": "e95df368",
   "metadata": {
    "scrolled": true
   },
   "outputs": [
    {
     "data": {
      "text/html": [
       "<div>\n",
       "<style scoped>\n",
       "    .dataframe tbody tr th:only-of-type {\n",
       "        vertical-align: middle;\n",
       "    }\n",
       "\n",
       "    .dataframe tbody tr th {\n",
       "        vertical-align: top;\n",
       "    }\n",
       "\n",
       "    .dataframe thead th {\n",
       "        text-align: right;\n",
       "    }\n",
       "</style>\n",
       "<table border=\"1\" class=\"dataframe\">\n",
       "  <thead>\n",
       "    <tr style=\"text-align: right;\">\n",
       "      <th></th>\n",
       "      <th>Id</th>\n",
       "      <th>MSSubClass</th>\n",
       "      <th>MSZoning</th>\n",
       "      <th>LotFrontage</th>\n",
       "      <th>LotArea</th>\n",
       "      <th>Street</th>\n",
       "      <th>LotShape</th>\n",
       "      <th>LandContour</th>\n",
       "      <th>Utilities</th>\n",
       "      <th>LotConfig</th>\n",
       "      <th>...</th>\n",
       "      <th>3SsnPorch</th>\n",
       "      <th>ScreenPorch</th>\n",
       "      <th>PoolArea</th>\n",
       "      <th>MiscFeature</th>\n",
       "      <th>MiscVal</th>\n",
       "      <th>MoSold</th>\n",
       "      <th>YrSold</th>\n",
       "      <th>SaleType</th>\n",
       "      <th>SaleCondition</th>\n",
       "      <th>SalePrice</th>\n",
       "    </tr>\n",
       "  </thead>\n",
       "  <tbody>\n",
       "    <tr>\n",
       "      <th>0</th>\n",
       "      <td>1</td>\n",
       "      <td>60</td>\n",
       "      <td>RL</td>\n",
       "      <td>65.0</td>\n",
       "      <td>8450</td>\n",
       "      <td>Pave</td>\n",
       "      <td>Reg</td>\n",
       "      <td>Lvl</td>\n",
       "      <td>AllPub</td>\n",
       "      <td>Inside</td>\n",
       "      <td>...</td>\n",
       "      <td>0</td>\n",
       "      <td>0</td>\n",
       "      <td>0</td>\n",
       "      <td>0</td>\n",
       "      <td>0</td>\n",
       "      <td>2</td>\n",
       "      <td>2008</td>\n",
       "      <td>WD</td>\n",
       "      <td>Normal</td>\n",
       "      <td>208500.0</td>\n",
       "    </tr>\n",
       "    <tr>\n",
       "      <th>1</th>\n",
       "      <td>2</td>\n",
       "      <td>20</td>\n",
       "      <td>RL</td>\n",
       "      <td>80.0</td>\n",
       "      <td>9600</td>\n",
       "      <td>Pave</td>\n",
       "      <td>Reg</td>\n",
       "      <td>Lvl</td>\n",
       "      <td>AllPub</td>\n",
       "      <td>FR2</td>\n",
       "      <td>...</td>\n",
       "      <td>0</td>\n",
       "      <td>0</td>\n",
       "      <td>0</td>\n",
       "      <td>0</td>\n",
       "      <td>0</td>\n",
       "      <td>5</td>\n",
       "      <td>2007</td>\n",
       "      <td>WD</td>\n",
       "      <td>Normal</td>\n",
       "      <td>181500.0</td>\n",
       "    </tr>\n",
       "    <tr>\n",
       "      <th>2</th>\n",
       "      <td>3</td>\n",
       "      <td>60</td>\n",
       "      <td>RL</td>\n",
       "      <td>68.0</td>\n",
       "      <td>11250</td>\n",
       "      <td>Pave</td>\n",
       "      <td>IR1</td>\n",
       "      <td>Lvl</td>\n",
       "      <td>AllPub</td>\n",
       "      <td>Inside</td>\n",
       "      <td>...</td>\n",
       "      <td>0</td>\n",
       "      <td>0</td>\n",
       "      <td>0</td>\n",
       "      <td>0</td>\n",
       "      <td>0</td>\n",
       "      <td>9</td>\n",
       "      <td>2008</td>\n",
       "      <td>WD</td>\n",
       "      <td>Normal</td>\n",
       "      <td>223500.0</td>\n",
       "    </tr>\n",
       "    <tr>\n",
       "      <th>3</th>\n",
       "      <td>4</td>\n",
       "      <td>70</td>\n",
       "      <td>RL</td>\n",
       "      <td>60.0</td>\n",
       "      <td>9550</td>\n",
       "      <td>Pave</td>\n",
       "      <td>IR1</td>\n",
       "      <td>Lvl</td>\n",
       "      <td>AllPub</td>\n",
       "      <td>Corner</td>\n",
       "      <td>...</td>\n",
       "      <td>0</td>\n",
       "      <td>0</td>\n",
       "      <td>0</td>\n",
       "      <td>0</td>\n",
       "      <td>0</td>\n",
       "      <td>2</td>\n",
       "      <td>2006</td>\n",
       "      <td>WD</td>\n",
       "      <td>Abnorml</td>\n",
       "      <td>140000.0</td>\n",
       "    </tr>\n",
       "    <tr>\n",
       "      <th>4</th>\n",
       "      <td>5</td>\n",
       "      <td>60</td>\n",
       "      <td>RL</td>\n",
       "      <td>84.0</td>\n",
       "      <td>14260</td>\n",
       "      <td>Pave</td>\n",
       "      <td>IR1</td>\n",
       "      <td>Lvl</td>\n",
       "      <td>AllPub</td>\n",
       "      <td>FR2</td>\n",
       "      <td>...</td>\n",
       "      <td>0</td>\n",
       "      <td>0</td>\n",
       "      <td>0</td>\n",
       "      <td>0</td>\n",
       "      <td>0</td>\n",
       "      <td>12</td>\n",
       "      <td>2008</td>\n",
       "      <td>WD</td>\n",
       "      <td>Normal</td>\n",
       "      <td>250000.0</td>\n",
       "    </tr>\n",
       "    <tr>\n",
       "      <th>5</th>\n",
       "      <td>6</td>\n",
       "      <td>50</td>\n",
       "      <td>RL</td>\n",
       "      <td>85.0</td>\n",
       "      <td>14115</td>\n",
       "      <td>Pave</td>\n",
       "      <td>IR1</td>\n",
       "      <td>Lvl</td>\n",
       "      <td>AllPub</td>\n",
       "      <td>Inside</td>\n",
       "      <td>...</td>\n",
       "      <td>320</td>\n",
       "      <td>0</td>\n",
       "      <td>0</td>\n",
       "      <td>Shed</td>\n",
       "      <td>700</td>\n",
       "      <td>10</td>\n",
       "      <td>2009</td>\n",
       "      <td>WD</td>\n",
       "      <td>Normal</td>\n",
       "      <td>143000.0</td>\n",
       "    </tr>\n",
       "    <tr>\n",
       "      <th>6</th>\n",
       "      <td>7</td>\n",
       "      <td>20</td>\n",
       "      <td>RL</td>\n",
       "      <td>75.0</td>\n",
       "      <td>10084</td>\n",
       "      <td>Pave</td>\n",
       "      <td>Reg</td>\n",
       "      <td>Lvl</td>\n",
       "      <td>AllPub</td>\n",
       "      <td>Inside</td>\n",
       "      <td>...</td>\n",
       "      <td>0</td>\n",
       "      <td>0</td>\n",
       "      <td>0</td>\n",
       "      <td>0</td>\n",
       "      <td>0</td>\n",
       "      <td>8</td>\n",
       "      <td>2007</td>\n",
       "      <td>WD</td>\n",
       "      <td>Normal</td>\n",
       "      <td>307000.0</td>\n",
       "    </tr>\n",
       "    <tr>\n",
       "      <th>7</th>\n",
       "      <td>8</td>\n",
       "      <td>60</td>\n",
       "      <td>RL</td>\n",
       "      <td>0.0</td>\n",
       "      <td>10382</td>\n",
       "      <td>Pave</td>\n",
       "      <td>IR1</td>\n",
       "      <td>Lvl</td>\n",
       "      <td>AllPub</td>\n",
       "      <td>Corner</td>\n",
       "      <td>...</td>\n",
       "      <td>0</td>\n",
       "      <td>0</td>\n",
       "      <td>0</td>\n",
       "      <td>Shed</td>\n",
       "      <td>350</td>\n",
       "      <td>11</td>\n",
       "      <td>2009</td>\n",
       "      <td>WD</td>\n",
       "      <td>Normal</td>\n",
       "      <td>200000.0</td>\n",
       "    </tr>\n",
       "    <tr>\n",
       "      <th>8</th>\n",
       "      <td>9</td>\n",
       "      <td>50</td>\n",
       "      <td>RM</td>\n",
       "      <td>51.0</td>\n",
       "      <td>6120</td>\n",
       "      <td>Pave</td>\n",
       "      <td>Reg</td>\n",
       "      <td>Lvl</td>\n",
       "      <td>AllPub</td>\n",
       "      <td>Inside</td>\n",
       "      <td>...</td>\n",
       "      <td>0</td>\n",
       "      <td>0</td>\n",
       "      <td>0</td>\n",
       "      <td>0</td>\n",
       "      <td>0</td>\n",
       "      <td>4</td>\n",
       "      <td>2008</td>\n",
       "      <td>WD</td>\n",
       "      <td>Abnorml</td>\n",
       "      <td>129900.0</td>\n",
       "    </tr>\n",
       "    <tr>\n",
       "      <th>9</th>\n",
       "      <td>10</td>\n",
       "      <td>190</td>\n",
       "      <td>RL</td>\n",
       "      <td>50.0</td>\n",
       "      <td>7420</td>\n",
       "      <td>Pave</td>\n",
       "      <td>Reg</td>\n",
       "      <td>Lvl</td>\n",
       "      <td>AllPub</td>\n",
       "      <td>Corner</td>\n",
       "      <td>...</td>\n",
       "      <td>0</td>\n",
       "      <td>0</td>\n",
       "      <td>0</td>\n",
       "      <td>0</td>\n",
       "      <td>0</td>\n",
       "      <td>1</td>\n",
       "      <td>2008</td>\n",
       "      <td>WD</td>\n",
       "      <td>Normal</td>\n",
       "      <td>118000.0</td>\n",
       "    </tr>\n",
       "  </tbody>\n",
       "</table>\n",
       "<p>10 rows × 78 columns</p>\n",
       "</div>"
      ],
      "text/plain": [
       "   Id  MSSubClass MSZoning  LotFrontage  LotArea Street LotShape LandContour  \\\n",
       "0   1          60       RL         65.0     8450   Pave      Reg         Lvl   \n",
       "1   2          20       RL         80.0     9600   Pave      Reg         Lvl   \n",
       "2   3          60       RL         68.0    11250   Pave      IR1         Lvl   \n",
       "3   4          70       RL         60.0     9550   Pave      IR1         Lvl   \n",
       "4   5          60       RL         84.0    14260   Pave      IR1         Lvl   \n",
       "5   6          50       RL         85.0    14115   Pave      IR1         Lvl   \n",
       "6   7          20       RL         75.0    10084   Pave      Reg         Lvl   \n",
       "7   8          60       RL          0.0    10382   Pave      IR1         Lvl   \n",
       "8   9          50       RM         51.0     6120   Pave      Reg         Lvl   \n",
       "9  10         190       RL         50.0     7420   Pave      Reg         Lvl   \n",
       "\n",
       "  Utilities LotConfig  ... 3SsnPorch ScreenPorch PoolArea MiscFeature MiscVal  \\\n",
       "0    AllPub    Inside  ...         0           0        0           0       0   \n",
       "1    AllPub       FR2  ...         0           0        0           0       0   \n",
       "2    AllPub    Inside  ...         0           0        0           0       0   \n",
       "3    AllPub    Corner  ...         0           0        0           0       0   \n",
       "4    AllPub       FR2  ...         0           0        0           0       0   \n",
       "5    AllPub    Inside  ...       320           0        0        Shed     700   \n",
       "6    AllPub    Inside  ...         0           0        0           0       0   \n",
       "7    AllPub    Corner  ...         0           0        0        Shed     350   \n",
       "8    AllPub    Inside  ...         0           0        0           0       0   \n",
       "9    AllPub    Corner  ...         0           0        0           0       0   \n",
       "\n",
       "  MoSold  YrSold  SaleType  SaleCondition  SalePrice  \n",
       "0      2    2008        WD         Normal   208500.0  \n",
       "1      5    2007        WD         Normal   181500.0  \n",
       "2      9    2008        WD         Normal   223500.0  \n",
       "3      2    2006        WD        Abnorml   140000.0  \n",
       "4     12    2008        WD         Normal   250000.0  \n",
       "5     10    2009        WD         Normal   143000.0  \n",
       "6      8    2007        WD         Normal   307000.0  \n",
       "7     11    2009        WD         Normal   200000.0  \n",
       "8      4    2008        WD        Abnorml   129900.0  \n",
       "9      1    2008        WD         Normal   118000.0  \n",
       "\n",
       "[10 rows x 78 columns]"
      ]
     },
     "execution_count": 10,
     "metadata": {},
     "output_type": "execute_result"
    }
   ],
   "source": [
    "dataset.head(10)"
   ]
  },
  {
   "cell_type": "markdown",
   "id": "98c8ca7c",
   "metadata": {},
   "source": [
    "### Feature Engineering\n",
    "\n",
    "Create discrete numerical features from descriptions."
   ]
  },
  {
   "cell_type": "code",
   "execution_count": 11,
   "id": "06c68514",
   "metadata": {},
   "outputs": [],
   "source": [
    "def description_to_number(dataset, key):\n",
    "    _map = {}\n",
    "    _number = []\n",
    "    for cond in dataset[key]:\n",
    "        if cond not in _map.keys():\n",
    "            _map[cond] = len(_map.keys())\n",
    "        _number.append(_map[cond])\n",
    "    dataset['Numerical' + key] = _number\n",
    "    return dataset\n",
    "\n",
    "dataset = description_to_number(dataset, 'Street')\n",
    "dataset = description_to_number(dataset,'GarageType')\n",
    "dataset = description_to_number(dataset, 'CentralAir')\n",
    "dataset = description_to_number(dataset, 'SaleCondition')\n",
    "dataset = description_to_number(dataset, 'HeatingQC')"
   ]
  },
  {
   "cell_type": "markdown",
   "id": "f57131a1",
   "metadata": {},
   "source": [
    "### method to check the different values in an attribute"
   ]
  },
  {
   "cell_type": "code",
   "execution_count": 12,
   "id": "02edd706",
   "metadata": {},
   "outputs": [
    {
     "data": {
      "text/plain": [
       "<AxesSubplot:ylabel='None'>"
      ]
     },
     "execution_count": 12,
     "metadata": {},
     "output_type": "execute_result"
    },
    {
     "data": {
      "image/png": "[encoded data removed]",
      "text/plain": [
       "<Figure size 432x288 with 1 Axes>"
      ]
     },
     "metadata": {},
     "output_type": "display_data"
    }
   ],
   "source": [
    "dataset.groupby('LotConfig').size().plot(kind='pie')"
   ]
  },
  {
   "cell_type": "code",
   "execution_count": 13,
   "id": "cf0aef69",
   "metadata": {},
   "outputs": [
    {
     "data": {
      "text/plain": [
       "<AxesSubplot:xlabel='TotRmsAbvGrd'>"
      ]
     },
     "execution_count": 13,
     "metadata": {},
     "output_type": "execute_result"
    },
    {
     "data": {
      "image/png": "[encoded data removed]",
      "text/plain": [
       "<Figure size 432x288 with 1 Axes>"
      ]
     },
     "metadata": {
      "needs_background": "light"
     },
     "output_type": "display_data"
    }
   ],
   "source": [
    "dataset.groupby('TotRmsAbvGrd').size().plot(kind='bar')"
   ]
  },
  {
   "cell_type": "code",
   "execution_count": 14,
   "id": "9e96da78",
   "metadata": {},
   "outputs": [
    {
     "data": {
      "text/plain": [
       "<AxesSubplot:xlabel='GarageArea'>"
      ]
     },
     "execution_count": 14,
     "metadata": {},
     "output_type": "execute_result"
    },
    {
     "data": {
      "image/png": "[encoded data removed]",
      "text/plain": [
       "<Figure size 432x288 with 1 Axes>"
      ]
     },
     "metadata": {
      "needs_background": "light"
     },
     "output_type": "display_data"
    }
   ],
   "source": [
    "dataset.groupby('GarageArea').size().plot(kind='area')"
   ]
  },
  {
   "cell_type": "markdown",
   "id": "6e693890",
   "metadata": {},
   "source": [
    "### checking the descriptions of variables"
   ]
  },
  {
   "cell_type": "code",
   "execution_count": 15,
   "id": "0fc473c0",
   "metadata": {},
   "outputs": [
    {
     "data": {
      "text/plain": [
       "count    2919.000000\n",
       "mean        1.766016\n",
       "std         0.762196\n",
       "min         0.000000\n",
       "25%         1.000000\n",
       "50%         2.000000\n",
       "75%         2.000000\n",
       "max         5.000000\n",
       "Name: GarageCars, dtype: float64"
      ]
     },
     "execution_count": 15,
     "metadata": {},
     "output_type": "execute_result"
    }
   ],
   "source": [
    "dataset['GarageCars'].describe()"
   ]
  },
  {
   "cell_type": "code",
   "execution_count": 16,
   "id": "20d05e6d",
   "metadata": {},
   "outputs": [
    {
     "data": {
      "text/plain": [
       "Id                        0\n",
       "MSSubClass                0\n",
       "MSZoning                  0\n",
       "LotFrontage               0\n",
       "LotArea                   0\n",
       "                         ..\n",
       "NumericalStreet           0\n",
       "NumericalGarageType       0\n",
       "NumericalCentralAir       0\n",
       "NumericalSaleCondition    0\n",
       "NumericalHeatingQC        0\n",
       "Length: 83, dtype: int64"
      ]
     },
     "execution_count": 16,
     "metadata": {},
     "output_type": "execute_result"
    }
   ],
   "source": [
    "dataset.isnull().sum()\n"
   ]
  },
  {
   "cell_type": "code",
   "execution_count": 17,
   "id": "bc382829",
   "metadata": {},
   "outputs": [
    {
     "data": {
      "text/plain": [
       "Id                        0\n",
       "MSSubClass                0\n",
       "MSZoning                  0\n",
       "LotFrontage               0\n",
       "LotArea                   0\n",
       "                         ..\n",
       "NumericalStreet           0\n",
       "NumericalGarageType       0\n",
       "NumericalCentralAir       0\n",
       "NumericalSaleCondition    0\n",
       "NumericalHeatingQC        0\n",
       "Length: 83, dtype: int64"
      ]
     },
     "execution_count": 17,
     "metadata": {},
     "output_type": "execute_result"
    }
   ],
   "source": [
    "dataset['GarageCars']=dataset['GarageCars'].replace(to_replace=np.nan,value='2')\n",
    "dataset.isnull().sum()\n"
   ]
  },
  {
   "cell_type": "code",
   "execution_count": 18,
   "id": "30d06a95",
   "metadata": {},
   "outputs": [
    {
     "data": {
      "text/plain": [
       "<AxesSubplot:xlabel='GarageCars'>"
      ]
     },
     "execution_count": 18,
     "metadata": {},
     "output_type": "execute_result"
    },
    {
     "data": {
      "image/png": "[encoded data removed]",
      "text/plain": [
       "<Figure size 432x288 with 1 Axes>"
      ]
     },
     "metadata": {
      "needs_background": "light"
     },
     "output_type": "display_data"
    }
   ],
   "source": [
    "dataset.groupby('GarageCars').size().plot(kind='bar')"
   ]
  },
  {
   "cell_type": "markdown",
   "id": "3632604a",
   "metadata": {},
   "source": [
    "## Price Distribution"
   ]
  },
  {
   "cell_type": "code",
   "execution_count": 19,
   "id": "35cf407d",
   "metadata": {},
   "outputs": [
    {
     "data": {
      "text/plain": [
       "<seaborn.axisgrid.FacetGrid at 0x23da7fdc070>"
      ]
     },
     "execution_count": 19,
     "metadata": {},
     "output_type": "execute_result"
    },
    {
     "data": {
      "image/png": "[encoded data removed]",
      "text/plain": [
       "<Figure size 360x360 with 1 Axes>"
      ]
     },
     "metadata": {
      "needs_background": "light"
     },
     "output_type": "display_data"
    }
   ],
   "source": [
    "sns.displot(dataset['SalePrice'][dataset['SalePrice'] >= 1.0])"
   ]
  },
  {
   "cell_type": "markdown",
   "id": "15a9d19a",
   "metadata": {},
   "source": [
    "## testing different input attributes to get the best prediction"
   ]
  },
  {
   "cell_type": "code",
   "execution_count": null,
   "id": "86fea75f",
   "metadata": {},
   "outputs": [],
   "source": []
  },
  {
   "cell_type": "code",
   "execution_count": 20,
   "id": "5b38636f",
   "metadata": {},
   "outputs": [],
   "source": [
    "neighborhood_dict = {}\n",
    "for i, item in enumerate(dataset['Neighborhood']):\n",
    "    if item not in neighborhood_dict.keys():\n",
    "        neighborhood_dict[item] = []\n",
    "        \n",
    "    neighborhood_dict[item].append(dataset['SalePrice'][i])\n",
    "    \n",
    "avg_prices = {}\n",
    "std_prices = {}\n",
    "for neighborhood in neighborhood_dict.keys():\n",
    "    avg_price = np.mean(neighborhood_dict[neighborhood])\n",
    "    avg_prices[neighborhood] = avg_price\n",
    "    std_prices[neighborhood] = np.std(neighborhood_dict[neighborhood])\n",
    "    \n",
    "\n",
    "data = [avg_prices[item] for item in dataset['Neighborhood']] \n",
    "dataset['NeighborhoodAvgPrice'] = data"
   ]
  },
  {
   "cell_type": "code",
   "execution_count": 21,
   "id": "25f1b758",
   "metadata": {},
   "outputs": [],
   "source": [
    "key1 = ['NumericalSaleCondition','FullBath','YrSold']\n",
    "key2 = ['NumericalSaleCondition','FullBath', 'YrSold', 'GarageCars']\n",
    "key3 = ['OverallQual', 'GarageCars','LotArea','FullBath','YrSold']\n",
    "key4 = ['OverallQual', 'GarageCars','LotArea', 'OverallCond', 'YrSold']\n",
    "key5 = ['OverallQual', 'YearBuilt', 'GrLivArea','TotalBsmtSF','OverallCond', 'FullBath']\n",
    "key = ['OverallQual', 'GarageCars', 'GrLivArea','NeighborhoodAvgPrice', 'TotRmsAbvGrd','WoodDeckSF', 'Fireplaces']\n",
    "\n",
    "keys_to_test = [key1, key2, key3, key4, key5, key]\n"
   ]
  },
  {
   "cell_type": "markdown",
   "id": "3e8de784",
   "metadata": {},
   "source": [
    "# Heatmap of selected parameters"
   ]
  },
  {
   "cell_type": "code",
   "execution_count": 22,
   "id": "7ea263d4",
   "metadata": {},
   "outputs": [
    {
     "data": {
      "text/plain": [
       "<AxesSubplot:>"
      ]
     },
     "execution_count": 22,
     "metadata": {},
     "output_type": "execute_result"
    },
    {
     "data": {
      "image/png": "[encoded data removed]",
      "text/plain": [
       "<Figure size 432x288 with 2 Axes>"
      ]
     },
     "metadata": {
      "needs_background": "light"
     },
     "output_type": "display_data"
    }
   ],
   "source": [
    "sns.heatmap(dataset[key].corr(),annot=True)"
   ]
  },
  {
   "cell_type": "code",
   "execution_count": 23,
   "id": "05e934d4",
   "metadata": {},
   "outputs": [],
   "source": [
    "from sklearn.model_selection import train_test_split"
   ]
  },
  {
   "cell_type": "code",
   "execution_count": 24,
   "id": "b357d965",
   "metadata": {},
   "outputs": [],
   "source": [
    "import sklearn"
   ]
  },
  {
   "cell_type": "code",
   "execution_count": 25,
   "id": "bd240b37",
   "metadata": {},
   "outputs": [],
   "source": [
    "from sklearn.linear_model import LinearRegression"
   ]
  },
  {
   "cell_type": "markdown",
   "id": "146b34b4",
   "metadata": {},
   "source": [
    "# Linear regression and comparison of different input parameters to various metrics "
   ]
  },
  {
   "cell_type": "code",
   "execution_count": 26,
   "id": "da0aca62",
   "metadata": {},
   "outputs": [
    {
     "name": "stderr",
     "output_type": "stream",
     "text": [
      "No artists with labels found to put in legend.  Note that artists whose label start with an underscore are ignored when legend() is called with no argument.\n"
     ]
    },
    {
     "name": "stdout",
     "output_type": "stream",
     "text": [
      "['NumericalSaleCondition', 'FullBath', 'YrSold']\n",
      "{'r2_score': 0.3148605762169834, 'mse_value': 4337646195.451488, 'explained_variance': 0.3148800286983151, 'mean_abs_percent_error': 0.27159513920426864}\n",
      "#########################\n",
      "['NumericalSaleCondition', 'FullBath', 'YrSold', 'GarageCars']\n",
      "{'r2_score': 0.4754445365940748, 'mse_value': 3320982461.617333, 'explained_variance': 0.4754572061444924, 'mean_abs_percent_error': 0.2394950936145899}\n",
      "#########################\n",
      "['OverallQual', 'GarageCars', 'LotArea', 'FullBath', 'YrSold']\n",
      "{'r2_score': 0.6729832314529094, 'mse_value': 2070356766.3716288, 'explained_variance': 0.6730665002259423, 'mean_abs_percent_error': 0.18658116388501209}\n",
      "#########################\n",
      "['OverallQual', 'GarageCars', 'LotArea', 'OverallCond', 'YrSold']\n",
      "{'r2_score': 0.6602999219177275, 'mse_value': 2150655326.695664, 'explained_variance': 0.6604177706377856, 'mean_abs_percent_error': 0.19208051610419907}\n",
      "#########################\n",
      "['OverallQual', 'YearBuilt', 'GrLivArea', 'TotalBsmtSF', 'OverallCond', 'FullBath']\n",
      "{'r2_score': 0.7151432775640114, 'mse_value': 1803439760.4808726, 'explained_variance': 0.7151435369926278, 'mean_abs_percent_error': 0.15039890695185712}\n",
      "#########################\n",
      "['OverallQual', 'GarageCars', 'GrLivArea', 'NeighborhoodAvgPrice', 'TotRmsAbvGrd', 'WoodDeckSF', 'Fireplaces']\n",
      "{'r2_score': 0.7661053038942542, 'mse_value': 1480797051.63876, 'explained_variance': 0.766364678561941, 'mean_abs_percent_error': 0.1506296286615034}\n",
      "#########################\n"
     ]
    },
    {
     "data": {
      "text/plain": [
       "<matplotlib.legend.Legend at 0x23da8333fd0>"
      ]
     },
     "execution_count": 26,
     "metadata": {},
     "output_type": "execute_result"
    },
    {
     "data": {
      "image/png": "[encoded data removed]",
      "text/plain": [
       "<Figure size 432x288 with 1 Axes>"
      ]
     },
     "metadata": {
      "needs_background": "light"
     },
     "output_type": "display_data"
    }
   ],
   "source": [
    "results_from_scan = []\n",
    "for keys in keys_to_test:\n",
    "    X = dataset[keys][dataset['SalePrice']>=1.0]\n",
    "    y = dataset['SalePrice'][dataset['SalePrice']>= 1.0]\n",
    "    X_train,X_test,y_train,y_test = train_test_split(X, y, test_size=0.4, random_state=101)\n",
    "    lm = LinearRegression()\n",
    "    lm.fit(X_train,y_train)\n",
    "    predictions = lm.predict(X_test)\n",
    "\n",
    "    results = {}\n",
    "    results['r2_score'] = sklearn.metrics.r2_score(y_test.values,predictions)\n",
    "    results['mse_value'] = sklearn.metrics.mean_squared_error(y_test.values, predictions)\n",
    "    results['explained_variance'] = sklearn.metrics.explained_variance_score(y_test.values, predictions)\n",
    "    results['mean_abs_percent_error'] = sklearn.metrics.mean_absolute_percentage_error(y_test.values, predictions)\n",
    "    results_from_scan.append(results)\n",
    "    print(keys)\n",
    "    print(results)\n",
    "    print(\"#########################\")\n",
    "plt.scatter(y_test, predictions)\n",
    "plt.legend()"
   ]
  },
  {
   "cell_type": "code",
   "execution_count": 27,
   "id": "b444484e",
   "metadata": {
    "scrolled": true
   },
   "outputs": [
    {
     "data": {
      "text/plain": [
       "Text(0, 0.5, 'R2 Score')"
      ]
     },
     "execution_count": 27,
     "metadata": {},
     "output_type": "execute_result"
    },
    {
     "data": {
      "image/png": "[encoded data removed]",
      "text/plain": [
       "<Figure size 432x288 with 1 Axes>"
      ]
     },
     "metadata": {
      "needs_background": "light"
     },
     "output_type": "display_data"
    }
   ],
   "source": [
    "r2_scores = [results['r2_score'] for results in results_from_scan]\n",
    "num_params = [len(key) for key in keys_to_test]\n",
    "plt.scatter(num_params, r2_scores)\n",
    "plt.xlabel('Number of input parameters')\n",
    "plt.ylabel('R2 Score')"
   ]
  },
  {
   "cell_type": "markdown",
   "id": "337e988c",
   "metadata": {},
   "source": [
    "## re: above graph; by increasing the number of input parameters, we increase the r2 score"
   ]
  },
  {
   "cell_type": "markdown",
   "id": "ce23a010",
   "metadata": {},
   "source": [
    "## distribution plot of absolute error of the ground truth vs the predictions"
   ]
  },
  {
   "cell_type": "code",
   "execution_count": 28,
   "id": "2ddaeccf",
   "metadata": {
    "scrolled": false
   },
   "outputs": [
    {
     "data": {
      "text/plain": [
       "<seaborn.axisgrid.FacetGrid at 0x23da81b1df0>"
      ]
     },
     "execution_count": 28,
     "metadata": {},
     "output_type": "execute_result"
    },
    {
     "data": {
      "image/png": "[encoded data removed]",
      "text/plain": [
       "<Figure size 360x360 with 1 Axes>"
      ]
     },
     "metadata": {
      "needs_background": "light"
     },
     "output_type": "display_data"
    }
   ],
   "source": [
    "sns.displot((y_test-predictions),bins=50)"
   ]
  },
  {
   "cell_type": "markdown",
   "id": "46358f81",
   "metadata": {},
   "source": [
    "# Simple UI for calculating average house price based on 6 important parameters"
   ]
  },
  {
   "cell_type": "code",
   "execution_count": 29,
   "id": "661c8c85",
   "metadata": {},
   "outputs": [
    {
     "name": "stdout",
     "output_type": "stream",
     "text": [
      "Enter OverallQual: 22\n",
      "Enter GarageCars: 2\n",
      "Enter GrLivArea: 23\n",
      "Enter Neighborhood: 2\n"
     ]
    },
    {
     "ename": "KeyError",
     "evalue": "'2'",
     "output_type": "error",
     "traceback": [
      "\u001b[1;31m---------------------------------------------------------------------------\u001b[0m",
      "\u001b[1;31mKeyError\u001b[0m                                  Traceback (most recent call last)",
      "Input \u001b[1;32mIn [29]\u001b[0m, in \u001b[0;36m<cell line: 18>\u001b[1;34m()\u001b[0m\n\u001b[0;32m     15\u001b[0m     inputs \u001b[38;5;241m=\u001b[39m np\u001b[38;5;241m.\u001b[39marray(inputs)\u001b[38;5;241m.\u001b[39mreshape(\u001b[38;5;241m1\u001b[39m, \u001b[38;5;241m-\u001b[39m\u001b[38;5;241m1\u001b[39m)\n\u001b[0;32m     16\u001b[0m     \u001b[38;5;28;01mreturn\u001b[39;00m inputs\n\u001b[1;32m---> 18\u001b[0m inputs \u001b[38;5;241m=\u001b[39m \u001b[43mpreprocess_inputs\u001b[49m\u001b[43m(\u001b[49m\u001b[43m)\u001b[49m\n\u001b[0;32m     20\u001b[0m \u001b[38;5;28mprint\u001b[39m(\u001b[38;5;124mf\u001b[39m\u001b[38;5;124m\"\u001b[39m\u001b[38;5;124mPredicted housing price: $ \u001b[39m\u001b[38;5;132;01m{\u001b[39;00mlm\u001b[38;5;241m.\u001b[39mpredict(inputs)\u001b[38;5;132;01m}\u001b[39;00m\u001b[38;5;124m\"\u001b[39m)\n",
      "Input \u001b[1;32mIn [29]\u001b[0m, in \u001b[0;36mpreprocess_inputs\u001b[1;34m()\u001b[0m\n\u001b[0;32m      7\u001b[0m     item \u001b[38;5;241m=\u001b[39m \u001b[38;5;124m'\u001b[39m\u001b[38;5;124mNeighborhood\u001b[39m\u001b[38;5;124m'\u001b[39m\n\u001b[0;32m      8\u001b[0m     entry \u001b[38;5;241m=\u001b[39m \u001b[38;5;28minput\u001b[39m(\u001b[38;5;124mf\u001b[39m\u001b[38;5;124m\"\u001b[39m\u001b[38;5;124mEnter \u001b[39m\u001b[38;5;132;01m{\u001b[39;00mitem\u001b[38;5;132;01m}\u001b[39;00m\u001b[38;5;124m: \u001b[39m\u001b[38;5;124m\"\u001b[39m)\n\u001b[1;32m----> 9\u001b[0m     entry \u001b[38;5;241m=\u001b[39m \u001b[43mavg_prices\u001b[49m\u001b[43m[\u001b[49m\u001b[43mentry\u001b[49m\u001b[43m]\u001b[49m\n\u001b[0;32m     10\u001b[0m \u001b[38;5;28;01melse\u001b[39;00m:\n\u001b[0;32m     11\u001b[0m     entry \u001b[38;5;241m=\u001b[39m \u001b[38;5;28minput\u001b[39m(\u001b[38;5;124mf\u001b[39m\u001b[38;5;124m\"\u001b[39m\u001b[38;5;124mEnter \u001b[39m\u001b[38;5;132;01m{\u001b[39;00mitem\u001b[38;5;132;01m}\u001b[39;00m\u001b[38;5;124m: \u001b[39m\u001b[38;5;124m\"\u001b[39m)\n",
      "\u001b[1;31mKeyError\u001b[0m: '2'"
     ]
    }
   ],
   "source": [
    "def preprocess_inputs():\n",
    "    inputs = []\n",
    "    input_parameters = key\n",
    "    for item in input_parameters:\n",
    "    \n",
    "        if item == 'NeighborhoodAvgPrice':\n",
    "            item = 'Neighborhood'\n",
    "            entry = input(f\"Enter {item}: \")\n",
    "            entry = avg_prices[entry]\n",
    "        else:\n",
    "            entry = input(f\"Enter {item}: \")\n",
    "        \n",
    "        inputs.append(float(entry))\n",
    "\n",
    "    inputs = np.array(inputs).reshape(1, -1)\n",
    "    return inputs\n",
    "    \n",
    "inputs = preprocess_inputs()\n",
    "\n",
    "print(f\"Predicted housing price: $ {lm.predict(inputs)}\")\n",
    "    "
   ]
  },
  {
   "cell_type": "markdown",
   "id": "2d41639d",
   "metadata": {},
   "source": [
    "## Scatter plot for average house prices in each neighborhood"
   ]
  },
  {
   "cell_type": "code",
   "execution_count": 30,
   "id": "57c99db4",
   "metadata": {},
   "outputs": [
    {
     "name": "stdout",
     "output_type": "stream",
     "text": [
      "dict_keys(['CollgCr', 'Veenker', 'Crawfor', 'NoRidge', 'Mitchel', 'Somerst', 'NWAmes', 'OldTown', 'BrkSide', 'Sawyer', 'NridgHt', 'NAmes', 'SawyerW', 'IDOTRR', 'MeadowV', 'Edwards', 'Timber', 'Gilbert', 'StoneBr', 'ClearCr', 'NPkVill', 'Blmngtn', 'BrDale', 'SWISU', 'Blueste'])\n"
     ]
    },
    {
     "data": {
      "image/png": "[encoded data removed]",
      "text/plain": [
       "<Figure size 432x288 with 1 Axes>"
      ]
     },
     "metadata": {
      "needs_background": "light"
     },
     "output_type": "display_data"
    }
   ],
   "source": [
    "plt.scatter(avg_prices.keys(), avg_prices.values())\n",
    "print(avg_prices.keys())"
   ]
  },
  {
   "cell_type": "markdown",
   "id": "383b6dea",
   "metadata": {},
   "source": [
    "## Selecting the vrailbles depending on house prediction "
   ]
  },
  {
   "cell_type": "code",
   "execution_count": null,
   "id": "da7f790f",
   "metadata": {},
   "outputs": [],
   "source": [
    "X = dataset[keys][dataset['SalePrice']>=1.0]\n",
    "y = dataset['SalePrice'][dataset['SalePrice']>= 1.0]\n",
    "X_train,X_test,y_train,y_test = train_test_split(X, y, test_size=0.4, random_state=101)"
   ]
  },
  {
   "cell_type": "markdown",
   "id": "aedaf8e6",
   "metadata": {},
   "source": [
    "## selection Model \n",
    "### 1. Linear regression"
   ]
  },
  {
   "cell_type": "code",
   "execution_count": 34,
   "id": "dbbab734",
   "metadata": {},
   "outputs": [
    {
     "data": {
      "text/plain": [
       "0.7958950099025848"
      ]
     },
     "execution_count": 34,
     "metadata": {},
     "output_type": "execute_result"
    }
   ],
   "source": [
    "from sklearn.linear_model import LinearRegression\n",
    "model= LinearRegression()\n",
    "model.fit(X_train,y_train)\n",
    "model.score(X_train,y_train)\n"
   ]
  },
  {
   "cell_type": "markdown",
   "id": "5df1b0f9",
   "metadata": {},
   "source": [
    "### 2.Decision Tree Regression"
   ]
  },
  {
   "cell_type": "code",
   "execution_count": 35,
   "id": "2c485e71",
   "metadata": {},
   "outputs": [
    {
     "data": {
      "text/plain": [
       "0.9998754894528653"
      ]
     },
     "execution_count": 35,
     "metadata": {},
     "output_type": "execute_result"
    }
   ],
   "source": [
    "from sklearn.tree import DecisionTreeRegressor\n",
    "decmodel=DecisionTreeRegressor()\n",
    "decmodel.fit(X_train,y_train)\n",
    "decmodel.score(X_train,y_train)"
   ]
  },
  {
   "cell_type": "markdown",
   "id": "fd4fd904",
   "metadata": {},
   "source": [
    "### 3. Random Forest Regression\n"
   ]
  },
  {
   "cell_type": "code",
   "execution_count": 40,
   "id": "e0be62dd",
   "metadata": {},
   "outputs": [
    {
     "data": {
      "text/plain": [
       "0.9730441652884694"
      ]
     },
     "execution_count": 40,
     "metadata": {},
     "output_type": "execute_result"
    }
   ],
   "source": [
    "from sklearn.ensemble import RandomForestRegressor\n",
    "ranmodel=RandomForestRegressor(n_estimators=10,random_state=0)\n",
    "ranmodel.fit(X_train,y_train.values.ravel())\n",
    "ranmodel.score(X_train,y_train)"
   ]
  },
  {
   "cell_type": "markdown",
   "id": "e9101297",
   "metadata": {},
   "source": [
    "### 4.Navie bayes Regression"
   ]
  },
  {
   "cell_type": "code",
   "execution_count": 43,
   "id": "7d193c69",
   "metadata": {},
   "outputs": [
    {
     "data": {
      "text/plain": [
       "0.4623287671232877"
      ]
     },
     "execution_count": 43,
     "metadata": {},
     "output_type": "execute_result"
    }
   ],
   "source": [
    "from sklearn.naive_bayes import GaussianNB\n",
    "navmodel=GaussianNB()\n",
    "navmodel.fit(X_train,y_train.values.ravel())\n",
    "navmodel.score(X_train,y_train)\n"
   ]
  },
  {
   "cell_type": "markdown",
   "id": "d286f623",
   "metadata": {},
   "source": [
    "### 5 .SVM regression"
   ]
  },
  {
   "cell_type": "code",
   "execution_count": 45,
   "id": "30f551b4",
   "metadata": {},
   "outputs": [
    {
     "data": {
      "text/plain": [
       "-0.054487801156545945"
      ]
     },
     "execution_count": 45,
     "metadata": {},
     "output_type": "execute_result"
    }
   ],
   "source": [
    "from sklearn.svm import SVR\n",
    "svrmodel=SVR(kernel='rbf', gamma='auto')\n",
    "svrmodel.fit(X_train,y_train.values.ravel())\n",
    "svrmodel.score(X_train,y_train)"
   ]
  },
  {
   "cell_type": "markdown",
   "id": "e756fffe",
   "metadata": {},
   "source": [
    "### 6. KNN classification"
   ]
  },
  {
   "cell_type": "code",
   "execution_count": 47,
   "id": "84edd7a2",
   "metadata": {},
   "outputs": [
    {
     "data": {
      "text/plain": [
       "0.9897260273972602"
      ]
     },
     "execution_count": 47,
     "metadata": {},
     "output_type": "execute_result"
    }
   ],
   "source": [
    "from sklearn.neighbors import KNeighborsClassifier\n",
    "knnmodel=KNeighborsClassifier(n_neighbors=1)\n",
    "knnmodel.fit(X_train,y_train.values.ravel())\n",
    "knnmodel.score(X_train,y_train)"
   ]
  },
  {
   "cell_type": "markdown",
   "id": "c609e264",
   "metadata": {},
   "source": [
    "### 7.Logistic Regression"
   ]
  },
  {
   "cell_type": "code",
   "execution_count": 50,
   "id": "aca7d04c",
   "metadata": {},
   "outputs": [
    {
     "data": {
      "text/plain": [
       "0.8571298102739455"
      ]
     },
     "execution_count": 50,
     "metadata": {},
     "output_type": "execute_result"
    }
   ],
   "source": [
    "from sklearn.preprocessing import PolynomialFeatures\n",
    "poly=PolynomialFeatures(degree=3)\n",
    "X_poly=poly.fit_transform(X_train)\n",
    "polymodel=LinearRegression()\n",
    "polymodel.fit(X_poly,y_train)\n",
    "polymodel.score(X_poly,y_train)"
   ]
  },
  {
   "cell_type": "markdown",
   "id": "7f574e3c",
   "metadata": {},
   "source": [
    "## From the above all models we can say that Decision tree is best model"
   ]
  },
  {
   "cell_type": "code",
   "execution_count": 51,
   "id": "b93085f5",
   "metadata": {},
   "outputs": [
    {
     "data": {
      "text/html": [
       "<div>\n",
       "<style scoped>\n",
       "    .dataframe tbody tr th:only-of-type {\n",
       "        vertical-align: middle;\n",
       "    }\n",
       "\n",
       "    .dataframe tbody tr th {\n",
       "        vertical-align: top;\n",
       "    }\n",
       "\n",
       "    .dataframe thead th {\n",
       "        text-align: right;\n",
       "    }\n",
       "</style>\n",
       "<table border=\"1\" class=\"dataframe\">\n",
       "  <thead>\n",
       "    <tr style=\"text-align: right;\">\n",
       "      <th></th>\n",
       "      <th>SalePrice</th>\n",
       "      <th>0</th>\n",
       "    </tr>\n",
       "  </thead>\n",
       "  <tbody>\n",
       "    <tr>\n",
       "      <th>1054</th>\n",
       "      <td>255000.0</td>\n",
       "      <td>236500.0</td>\n",
       "    </tr>\n",
       "    <tr>\n",
       "      <th>361</th>\n",
       "      <td>145000.0</td>\n",
       "      <td>137500.0</td>\n",
       "    </tr>\n",
       "    <tr>\n",
       "      <th>1282</th>\n",
       "      <td>150500.0</td>\n",
       "      <td>138000.0</td>\n",
       "    </tr>\n",
       "    <tr>\n",
       "      <th>161</th>\n",
       "      <td>412500.0</td>\n",
       "      <td>380000.0</td>\n",
       "    </tr>\n",
       "    <tr>\n",
       "      <th>515</th>\n",
       "      <td>402861.0</td>\n",
       "      <td>465000.0</td>\n",
       "    </tr>\n",
       "  </tbody>\n",
       "</table>\n",
       "</div>"
      ],
      "text/plain": [
       "      SalePrice         0\n",
       "1054   255000.0  236500.0\n",
       "361    145000.0  137500.0\n",
       "1282   150500.0  138000.0\n",
       "161    412500.0  380000.0\n",
       "515    402861.0  465000.0"
      ]
     },
     "execution_count": 51,
     "metadata": {},
     "output_type": "execute_result"
    }
   ],
   "source": [
    "y_predicted=pd.DataFrame(decmodel.predict(X_test),index=y_test.index)\n",
    "z=pd.concat([y_test,y_predicted],axis='columns')\n",
    "z.head()"
   ]
  },
  {
   "cell_type": "markdown",
   "id": "c6ce3b09",
   "metadata": {},
   "source": [
    "## MODEL USED \n",
    " \n",
    "#### \tEFFICIENCY \n",
    "##### Decision tree \t99.221% \n",
    "##### Linear Regression \t79%  \n",
    "##### Logistic Regression \t85% \n",
    "##### SVM (support vector machine) \t95% \n",
    "##### Random Forest \t95% \n",
    "##### Naïve Bayes \t46% \n",
    "##### K Nearest Neighbor \t98% \n"
   ]
  },
  {
   "cell_type": "code",
   "execution_count": null,
   "id": "62bbb33a",
   "metadata": {},
   "outputs": [],
   "source": []
  }
 ],
 "metadata": {
  "kernelspec": {
   "display_name": "Python 3 (ipykernel)",
   "language": "python",
   "name": "python3"
  },
  "language_info": {
   "codemirror_mode": {
    "name": "ipython",
    "version": 3
   },
   "file_extension": ".py",
   "mimetype": "text/x-python",
   "name": "python",
   "nbconvert_exporter": "python",
   "pygments_lexer": "ipython3",
   "version": "3.9.12"
  }
 },
 "nbformat": 4,
 "nbformat_minor": 5
}
